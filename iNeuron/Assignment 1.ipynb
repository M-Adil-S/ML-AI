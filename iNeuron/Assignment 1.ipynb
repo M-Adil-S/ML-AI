{
 "cells": [
  {
   "cell_type": "markdown",
   "id": "548152ff",
   "metadata": {},
   "source": [
    "### Problem 1\n",
    "Write a program in python which will find all such numbers which are divisible by 7\n",
    "but are not a multiple of 5, between 2000 and 3200 (both included).\n",
    "The numbers obtained should be printed in a comma-separated sequence on a single line."
   ]
  },
  {
   "cell_type": "code",
   "execution_count": null,
   "id": "1bd368bf",
   "metadata": {},
   "outputs": [],
   "source": [
    "Answer 1:\n",
    "\n",
    "numbers = []\n",
    "\n",
    "for number in range(2000,3201):\n",
    "    if number % 7 == 0 and number % 5 != 0:\n",
    "        numbers.append(str(number))\n",
    "\n",
    "print(', '.join(numbers))"
   ]
  },
  {
   "cell_type": "markdown",
   "id": "c6f1d996",
   "metadata": {},
   "source": [
    "### Problem 2\n",
    "Write a Python program to accept the user's first and last name and then getting them\n",
    "printed in the the reverse order with a space between first name and last name."
   ]
  },
  {
   "cell_type": "code",
   "execution_count": null,
   "id": "4ce99c6d",
   "metadata": {},
   "outputs": [],
   "source": [
    "\n",
    "first_name = input('Please enter your first name:')\n",
    "last_name = input('Please enter your last name:')\n",
    "name = first_name + ' ' + last_name\n",
    "\n",
    "print(name[::-1])"
   ]
  },
  {
   "cell_type": "markdown",
   "id": "382b1067",
   "metadata": {},
   "source": [
    "### Problem 3:\n",
    "Write a Python program to find the volume of a sphere with diameter 12 cm. Formula: V=4/3 * π * r 3"
   ]
  },
  {
   "cell_type": "code",
   "execution_count": null,
   "id": "3f4e17f6",
   "metadata": {},
   "outputs": [],
   "source": [
    "import math\n",
    "\n",
    "diameter = 12\n",
    "radius = diameter / 2\n",
    "\n",
    "def find_sphere_volume(radius):\n",
    "    sphere_volume = 4 / 3 * math.pi * (radius ** 3)\n",
    "    print('Volume of the sphere = {:.3f}'.format(sphere_volume))\n",
    "\n",
    "find_sphere_volume(radius)"
   ]
  },
  {
   "cell_type": "code",
   "execution_count": null,
   "id": "fbd32c6c",
   "metadata": {},
   "outputs": [],
   "source": []
  }
 ],
 "metadata": {
  "kernelspec": {
   "display_name": "Python 3 (ipykernel)",
   "language": "python",
   "name": "python3"
  },
  "language_info": {
   "codemirror_mode": {
    "name": "ipython",
    "version": 3
   },
   "file_extension": ".py",
   "mimetype": "text/x-python",
   "name": "python",
   "nbconvert_exporter": "python",
   "pygments_lexer": "ipython3",
   "version": "3.9.12"
  }
 },
 "nbformat": 4,
 "nbformat_minor": 5
}
