{
 "cells": [
  {
   "cell_type": "markdown",
   "id": "c2223d94",
   "metadata": {},
   "source": [
    "## Calculate the mean, median, mode and standard deviation for the problem statements 1 & 2."
   ]
  },
  {
   "cell_type": "markdown",
   "id": "139a7ebc",
   "metadata": {},
   "source": [
    "### Problem Statement 1:\n",
    "The marks awarded for an assignment set for a Year 8 class of 20 students were as\n",
    "follows:\n",
    "6 7 5 7 7 8 7 6 9 7 4 10 6 8 8 9 5 6 4 8"
   ]
  },
  {
   "cell_type": "code",
   "execution_count": 1,
   "id": "e24f1805",
   "metadata": {},
   "outputs": [
    {
     "name": "stdout",
     "output_type": "stream",
     "text": [
      "The mean is  6.85\n",
      "The median is  7.0\n",
      "The mode is  7\n",
      "The Standard Deviation is  1.631\n"
     ]
    }
   ],
   "source": [
    "# Solution 1\n",
    "\n",
    "import numpy as np\n",
    "import statistics as stats\n",
    "\n",
    "marks =[6, 7, 5, 7, 7, 8, 7, 6, 9, 7, 4, 10, 6, 8, 8, 9, 5, 6, 4, 8]\n",
    "\n",
    "mean_marks = np.mean(marks)\n",
    "median_marks = np.median(marks)\n",
    "mode_marks = stats.mode(marks)\n",
    "std_dev_marks = stats.stdev(marks)\n",
    "\n",
    "print('The mean is ',mean_marks)\n",
    "print('The median is ',median_marks)\n",
    "print('The mode is ',mode_marks)\n",
    "print('The Standard Deviation is ', round(std_dev_marks,3))"
   ]
  },
  {
   "cell_type": "markdown",
   "id": "27a335a5",
   "metadata": {},
   "source": [
    "### Problem Statement 2:\n",
    "The number of calls from motorists per day for roadside service was recorded for a\n",
    "particular month:\n",
    "28, 122, 217, 130, 120, 86, 80, 90, 140, 120, 70, 40, 145, 113, 90, 68, 174, 194, 170,\n",
    "100, 75, 104, 97, 75,\n",
    "123, 100, 75, 104, 97, 75, 123, 100, 89, 120, 109"
   ]
  },
  {
   "cell_type": "code",
   "execution_count": 2,
   "id": "ff3aee2c",
   "metadata": {},
   "outputs": [
    {
     "name": "stdout",
     "output_type": "stream",
     "text": [
      "The mean is  107.514\n",
      "The median is  100.0\n",
      "The mode is  75\n",
      "The Standard Deviation is 39.339\n"
     ]
    }
   ],
   "source": [
    "# Solution 2\n",
    "\n",
    "import numpy as np\n",
    "import statistics as stats\n",
    "\n",
    "b = [28, 122, 217, 130, 120, 86, 80, 90, 140, 120, 70, 40, 145, 113, 90, 68, 174, 194, 170,\n",
    "100, 75, 104, 97, 75,\n",
    "123, 100, 75, 104, 97, 75, 123, 100, 89, 120, 109]\n",
    "\n",
    "mean_calls = np.mean(b)\n",
    "median_calls = np.median(b)\n",
    "mode_calls = stats.mode(b)\n",
    "std_dev_calls = stats.stdev(b)\n",
    "\n",
    "print('The mean is ', round(mean_calls,3))\n",
    "print('The median is ',median_calls)\n",
    "print('The mode is ',mode_calls)\n",
    "print('The Standard Deviation is', round(std_dev_calls,3))"
   ]
  },
  {
   "cell_type": "markdown",
   "id": "8aa24c44",
   "metadata": {},
   "source": [
    "### Problem Statement 3: \n",
    "The number of times I go to the gym in weekdays, are given below along with its\n",
    "associated probability:\n",
    "x = 0, 1, 2, 3, 4, 5\n",
    "f(x) = 0.09, 0.15, 0.40, 0.25, 0.10, 0.01\n",
    "Calculate the mean no. of workouts in a week. Also evaluate the variance involved in\n",
    "it'''\n",
    "\n",
    "#Answer:\n",
    "\n",
    "mean = (0*0.09)+(1*0.15)+(2*0.4)+(3*0.25)+(4*0.1)+(5*0.01)\n",
    "     = 2.15\n",
    "\n",
    "variance = Σ((xi-μ)2 * P(xi))\n",
    "         = ((0-2.15)^2 * 0.09) + ((1-2.15)^2 * 0.15) + ((2-2.15)^2 * 0.4) + ((3-2.15)^2 * 0.25) + ((4-2.15)^2 * 0.1) + ((5-2.15)^2 * 0.01)\n",
    "         = 1.23"
   ]
  },
  {
   "cell_type": "code",
   "execution_count": 3,
   "id": "1024b830",
   "metadata": {},
   "outputs": [
    {
     "name": "stdout",
     "output_type": "stream",
     "text": [
      "The mean is 2.15\n",
      "The variance is 1.228\n"
     ]
    }
   ],
   "source": [
    "# Solution 3\n",
    "# for a random variable, variance = Σ((xi-μ)2 * P(xi)) \n",
    "\n",
    "x = [0, 1, 2, 3, 4, 5]\n",
    "fx = [0.09, 0.15, 0.40, 0.25, 0.10, 0.01]\n",
    "\n",
    "mean_gymdays = sum([x[i] * fx[i] for i in range(len(x))])\n",
    "variance_gymdays = sum([((x[i] - mean_gymdays) **2) * fx[i] for i in range(len(x))])\n",
    "\n",
    "print('The mean is',mean_gymdays)\n",
    "print('The variance is', round(variance_gymdays,3))"
   ]
  },
  {
   "cell_type": "markdown",
   "id": "5b1079ad",
   "metadata": {},
   "source": [
    "### Problem Statement 4:\n",
    "Let the continuous random variable D denote the diameter of the hole drilled in an\n",
    "aluminum sheet. The target diameter to be achieved is 12.5mm. Random\n",
    "disturbances in the process often result in inaccuracy.\n",
    "Historical data shows that the distribution of D can be modelled by the PDF (𝑑) =\n",
    "20𝑒−20(𝑑−12.5), 𝑑 ≥ 12.5. If a part with diameter > 12.6 mm needs to be scrapped,\n",
    "what is the proportion of those parts? What is the CDF when the diameter is of 11\n",
    "mm? What is your conclusion regarding the proportion of scraps?\n",
    "\n"
   ]
  },
  {
   "cell_type": "markdown",
   "id": "7a1e75eb",
   "metadata": {},
   "source": [
    "Proportion that a part with diameter > 12.5mm needs to be scraped is:\n",
    "\\begin{equation}\n",
    "P(X>12.6)= \\int_{12.6}^{\\infty} 20e^{-20(x-12.5)} dx = \\left[-e^{-20(x-12.5)}\\right]_{12.6}^{\\infty} = 0.135\n",
    "\\end{equation}"
   ]
  },
  {
   "cell_type": "code",
   "execution_count": 9,
   "id": "13ac1a47",
   "metadata": {},
   "outputs": [
    {
     "name": "stdout",
     "output_type": "stream",
     "text": [
      "Proportion of Parts need to scrapped when d >12.6mm is : 0.135\n",
      "CDF when d= 11mm is:nan\n",
      "Proportion of CDF when d>12.5mm is : 1\n"
     ]
    },
    {
     "name": "stderr",
     "output_type": "stream",
     "text": [
      "C:\\Users\\adil1\\AppData\\Local\\Temp\\ipykernel_9652\\3932991844.py:5: RuntimeWarning: overflow encountered in exp\n",
      "  PDF= lambda dia:20 * (np.exp((-20 * (dia-12.5))))\n",
      "C:\\Users\\adil1\\AppData\\Local\\Temp\\ipykernel_9652\\3932991844.py:9: IntegrationWarning: The maximum number of subdivisions (50) has been achieved.\n",
      "  If increasing the limit yields no improvement it is advised to analyze \n",
      "  the integrand in order to determine the difficulties.  If the position of a \n",
      "  local difficulty can be determined (singularity, discontinuity) one will \n",
      "  probably gain from splitting up the interval and calling the integrator \n",
      "  on the subranges.  Perhaps a special-purpose integrator should be used.\n",
      "  CDF= integrate.quad(PDF, -np.inf, y_dia)\n"
     ]
    }
   ],
   "source": [
    "from scipy import integrate\n",
    "#PDF (𝑑) = 20𝑒−20(𝑑−12.5)\n",
    "#𝑑 ≥ 12.5\n",
    "\n",
    "PDF= lambda dia:20 * (np.exp((-20 * (dia-12.5))))\n",
    "x_dia = 12.6\n",
    "Px= integrate.quad(PDF, x_dia, np.inf)\n",
    "y_dia = 11\n",
    "CDF= integrate.quad(PDF, -np.inf, y_dia)\n",
    "\n",
    "print(f\"Proportion of Parts need to scrapped when d >12.6mm is : {round(Px[0],3)}\")\n",
    "print(f\"CDF when d= 11mm is:{CDF[0]}\")\n",
    "print(f\"Proportion of CDF when d>12.5mm is : {round(integrate.quad(PDF,12.5,np.inf)[0])}\")\n",
    "\n",
    "#Conclusion:\n",
    "#function is only valid when d>=12.5. \n",
    "#When d<12.5, the part can be reworked to 12.5 so there is no need for scrap in this case.\n",
    "#PDF is not defined for d=11, therefore CDF is not applicable."
   ]
  },
  {
   "cell_type": "markdown",
   "id": "def69170",
   "metadata": {},
   "source": [
    "### Problem Statement 5:\n",
    "A company manufactures LED bulbs with a faulty rate of 30%. If I randomly select 6 chosen LEDs, what is the probability of having 2 faulty LEDs in my sample? Calculate the average value of this process. Also evaluate the standard deviation associated with it."
   ]
  },
  {
   "cell_type": "code",
   "execution_count": 16,
   "id": "39c9871c",
   "metadata": {},
   "outputs": [
    {
     "name": "stdout",
     "output_type": "stream",
     "text": [
      "0.3253\n",
      "Average value is 1.8\n",
      "Standard deviation for this process is 1.122\n"
     ]
    }
   ],
   "source": [
    "#Solution 5\n",
    "import numpy as np\n",
    "import math\n",
    "from scipy.stats import binom\n",
    "\n",
    "add = sum(np.random.binomial(6, 0.3, 10000) == 2)/10000\n",
    "print(add)\n",
    "n = 6\n",
    "p = 0.3\n",
    "avg_val , var = binom.stats(n, p)\n",
    "process_std = math.sqrt(var)\n",
    "print('Average value is', np.around(avg_val,3))\n",
    "print('Standard deviation for this process is', round(std,3))"
   ]
  },
  {
   "cell_type": "markdown",
   "id": "2a0d26b7",
   "metadata": {},
   "source": [
    "### Problem Statement 6:\n",
    "Gaurav and Barakha are both preparing for entrance exams. Gaurav attempts to solve 8 questions per day with a correction rate of 75%, while Barakha averages around 12 questions per day with a correction rate of 45%. What is the probability that each of them will solve 5 questions correctly? What happens in cases of 4 and 6 correct solutions? What do you infer from it? What are the two main governing factors affecting their ability to solve questions correctly? Give a pictorial representation of the same to validate your answer."
   ]
  },
  {
   "cell_type": "code",
   "execution_count": 20,
   "id": "4de83522",
   "metadata": {},
   "outputs": [
    {
     "data": {
      "image/png": "[encoded data removed]",
      "text/plain": [
       "<Figure size 1296x576 with 2 Axes>"
      ]
     },
     "metadata": {
      "needs_background": "light"
     },
     "output_type": "display_data"
    },
    {
     "name": "stdout",
     "output_type": "stream",
     "text": [
      "Probability to solve 4 questions correctly for Barkha is 0.17\n",
      "Probability to solve 4 questions correctly for Gaurav is 0.087\n",
      "Probability to solve 6 questions correctly for Barkha is 0.212\n",
      "Probability to solve 6 questions correctly for Gaurav is 0.311\n"
     ]
    }
   ],
   "source": [
    "# Solution 6\n",
    "\n",
    "from scipy.stats import binom \n",
    "import matplotlib.pyplot as plt \n",
    "\n",
    "# setting the values of n and p  \n",
    "n_Gaurav = 8\n",
    "p_Gaurav = 0.75\n",
    "n_Barkha = 12\n",
    "p_Barkha = 0.45\n",
    "\n",
    "# defining list of r values \n",
    "r_values_Gaurav = list(range(n_Gaurav + 1)) \n",
    "r_values_Barkha = list(range(n_Barkha + 1))\n",
    "\n",
    "# list of pmf values \n",
    "dist_Gaurav = [binom.pmf(r, n_Gaurav, p_Gaurav) for r in r_values_Gaurav]\n",
    "dist_Barkha = [binom.pmf(r, n_Barkha, p_Barkha) for r in r_values_Barkha ]\n",
    "\n",
    "# plotting the graph  \n",
    "fig = plt.figure(figsize=(18,8))\n",
    "plt.subplot(1, 2, 1)\n",
    "plt.title('Gaurav\\'s probability distribution')\n",
    "plt.xlabel('Number of questions solved correctly')\n",
    "plt.ylabel('Probability of solving')\n",
    "plt.bar(r_values_Gaurav, dist_Gaurav)\n",
    "\n",
    "plt.subplot(1, 2, 2)\n",
    "plt.title('Barkha\\'s probability distribution')\n",
    "plt.xlabel('Number of questions solved correctly')\n",
    "plt.ylabel('Probability of solving')\n",
    "plt.bar(r_values_Barkha, dist_Barkha) \n",
    "plt.show()\n",
    "\n",
    "print('Probability to solve 4 questions correctly for Barkha is', round(dist_Barkha[4],3))\n",
    "print('Probability to solve 4 questions correctly for Gaurav is', round(dist_Gaurav[4],3))\n",
    "print('Probability to solve 6 questions correctly for Barkha is', round(dist_Barkha[6],3))\n",
    "print('Probability to solve 6 questions correctly for Gaurav is', round(dist_Gaurav[6],3))"
   ]
  },
  {
   "cell_type": "markdown",
   "id": "865d7806",
   "metadata": {},
   "source": [
    "### Problem Statement 7:\n",
    "Customers arrive at a rate of 72 per hour to my shop. What is the probability of k customers arriving in 4 minutes? a) 5 customers, b) not more than 3 customers, c) more than 3 customers. Give a pictorial representation of the same to validate your answer."
   ]
  },
  {
   "cell_type": "code",
   "execution_count": 47,
   "id": "9ed996f7",
   "metadata": {},
   "outputs": [
    {
     "name": "stdout",
     "output_type": "stream",
     "text": [
      "The probability of 5 cutomers arriving in 4 minutes is : 0.175\n",
      "The probability of arriving not more than 3 customers in 4 minutes is : 0.294\n",
      "The Probability of more than 3 customers arriving in 4 minutes is : 0.706\n"
     ]
    },
    {
     "data": {
      "text/plain": [
       "Text(0, 0.5, 'Probability')"
      ]
     },
     "execution_count": 47,
     "metadata": {},
     "output_type": "execute_result"
    },
    {
     "data": {
      "image/png": "[encoded data removed]",
      "text/plain": [
       "<Figure size 1080x360 with 1 Axes>"
      ]
     },
     "metadata": {
      "needs_background": "light"
     },
     "output_type": "display_data"
    }
   ],
   "source": [
    "from scipy.stats import poisson\n",
    "import seaborn as sns\n",
    "import matplotlib.pyplot as plt\n",
    "\n",
    "#72/60 customers come per minute\n",
    "#customers per 4 minutes:\n",
    "mu = 4*(72/60)\n",
    "a = round(poisson.pmf(k=5,mu=mu),3)\n",
    "b = round(poisson.cdf(k=3, mu=mu),3)\n",
    "c = round(1-poisson.cdf(k=3,mu=mu),3)\n",
    "\n",
    "print(f\"The probability of 5 cutomers arriving in 4 minutes is : {a}\")\n",
    "print(f\"The probability of arriving not more than 3 customers in 4 minutes is : {b}\")\n",
    "print(f\"The Probability of more than 3 customers arriving in 4 minutes is : {c}\")\n",
    "\n",
    "x = list(range(0,10))\n",
    "fig,ax = plt.subplots(1,1,figsize=(15,5))\n",
    "ax.plot(x, poisson.pmf(x,mu), 'bo', ms=8, label='poisson pmf')\n",
    "ax.vlines(x, 0, poisson.pmf(x, mu), colors='b', lw=5, alpha=0.5)\n",
    "plt.xlabel('Number of customers')\n",
    "plt.ylabel('Probability')"
   ]
  },
  {
   "cell_type": "markdown",
   "id": "90611424",
   "metadata": {},
   "source": [
    "### Problem Statement 8:\n",
    "I work as a data analyst in Aeon Learning Pvt. Ltd. After analyzing data, I make reports, where I have the efficiency of entering 77 words per minute with 6 errors per hour. What is the probability that I will commit 2 errors in a 455-word financial report? What happens when the no. of words increases/decreases (in case of 1000 words, 255 words)? How is the λ affected? How does it influence the PMF? Give a pictorial representation of the same to validate your answer."
   ]
  },
  {
   "cell_type": "code",
   "execution_count": 46,
   "id": "d881ee7b",
   "metadata": {},
   "outputs": [
    {
     "name": "stdout",
     "output_type": "stream",
     "text": [
      "The pobability of commiting 2 errors in 455 words financial report is :0.097\n",
      "The pobability of commiting 2 errors in 1000 words financial report is :0.23\n",
      "The pobability of commiting 2 errors in 255 words financial report is :0.039\n"
     ]
    },
    {
     "data": {
      "image/png": "[encoded data removed]",
      "text/plain": [
       "<Figure size 1080x360 with 1 Axes>"
      ]
     },
     "metadata": {
      "needs_background": "light"
     },
     "output_type": "display_data"
    },
    {
     "data": {
      "image/png": "[encoded data removed]",
      "text/plain": [
       "<Figure size 1296x576 with 2 Axes>"
      ]
     },
     "metadata": {
      "needs_background": "light"
     },
     "output_type": "display_data"
    }
   ],
   "source": [
    "from scipy.stats import poisson\n",
    "#Rate of entering= 77 per minute\n",
    "#Error rate= 6/hour= 0.1 per minute\n",
    "#No of errors per word= 0.1/77\n",
    "unit_mu = 0.1/77\n",
    "\n",
    "def mu(n):\n",
    "    return n * unit_mu\n",
    "\n",
    "print(f\"The pobability of commiting 2 errors in 455 words financial report is :{round(poisson.pmf(2,mu=mu(455)),3)}\")\n",
    "print(f\"The pobability of commiting 2 errors in 1000 words financial report is :{round(poisson.pmf(2,mu=mu(1000)),3)}\")\n",
    "print(f\"The pobability of commiting 2 errors in 255 words financial report is :{round(poisson.pmf(2,mu=mu(255)),3)}\")\n",
    "\n",
    "x = range(100,1000,50)\n",
    "mu = [i*unit_mu for i in x]\n",
    "\n",
    "fig,ax = plt.subplots(1,1,figsize=(15,5))\n",
    "ax.plot(x,poisson.pmf(2,mu), 'bo', ms=8)\n",
    "plt.title(\"poisson pmf\")\n",
    "#As the number of words increase probability of getting errors increases \n",
    "\n",
    "x = np.arange(0,10)\n",
    "mu_1 = 0.59\n",
    "mu_2 = 1.299\n",
    "mu_3 = 0.33\n",
    "fig = plt.figure(figsize=(18, 8))\n",
    "\n",
    "plt.subplot(1, 2, 1)\n",
    "plt.plot(x, poisson.pmf(x, mu_1), 'b-', label='λ: 0.59')\n",
    "plt.plot(x, poisson.pmf(x, mu_2), 'g-', label='λ: 1.299')\n",
    "plt.plot(x, poisson.pmf(x, mu_3), 'r-', label='λ: 0.33')\n",
    "plt.legend()\n",
    "plt.title('PDF')\n",
    "\n",
    "plt.subplot(1, 2, 2)\n",
    "plt.plot(x, poisson.cdf(x, mu_1), 'b-',label='λ: 0.59')\n",
    "plt.plot(x, poisson.cdf(x, mu_2), 'g-', label='λ: 1.299')\n",
    "plt.plot(x, poisson.cdf(x, mu_3), 'r-', label='λ: 0.33')\n",
    "plt.legend()\n",
    "plt.title('CDF')\n",
    "\n",
    "plt.show()"
   ]
  },
  {
   "cell_type": "markdown",
   "id": "33816093",
   "metadata": {},
   "source": [
    "### Problem Statement 9 is a copy of Problem Statement 4"
   ]
  },
  {
   "cell_type": "markdown",
   "id": "18c5495b",
   "metadata": {},
   "source": [
    "### Problem Statement 10:\n",
    "Please compute the following: a) P(Z > 1.26), . P(Z < −0.86), P(Z > −1.37), P(−1.25 < Z < 0.37), . P(Z ≤ −4.6) b) Find the value z such that P(Z > z) = 0.05 c) Find the value of z such that P(−z < Z < z) = 0.99\n",
    "\n",
    "Using standard normal distriution tables to find the values,"
   ]
  },
  {
   "cell_type": "code",
   "execution_count": 31,
   "id": "bf880c61",
   "metadata": {},
   "outputs": [
    {
     "name": "stdout",
     "output_type": "stream",
     "text": [
      "P(Z>1.26) = 0.10383\n",
      "P(Z<-0.86) = 0.19489\n",
      "P(Z>-1.37) = 0.91466\n",
      "P(−1.25 < Z < 0.37) = 0.53866\n",
      "P(Z ≤ −4.6) = 0.00000\n",
      "\n",
      "P(Z>z)=0.05 is 1.64\n",
      "\n",
      "𝑃(−𝑧 < 𝑍 < 𝑧) = 0.99 is 2.58\n"
     ]
    }
   ],
   "source": [
    "from scipy.stats import norm\n",
    "from scipy import integrate\n",
    "\n",
    "def P(z,b=-np.inf) :\n",
    "    return integrate.quad(norm.pdf,b,z)[0]\n",
    "\n",
    "print('P(Z>1.26) = %.5f'%(1-P(1.26)))\n",
    "print('P(Z<-0.86) = %.5f'%P(-0.86))\n",
    "print('P(Z>-1.37) = %.5f'%(1-P(-1.37)))\n",
    "print('P(−1.25 < Z < 0.37) = %.5f'%P(0.37,b=-1.25))\n",
    "print('P(Z ≤ −4.6) = %.5f'%P(-4.6))\n",
    "\n",
    "print('\\nP(Z>z)=0.05 is %.2f'%(-1*norm.ppf(0.05)))\n",
    "print('\\n𝑃(−𝑧 < 𝑍 < 𝑧) = 0.99 is %.2f'%(abs(norm.ppf(0.005))))"
   ]
  },
  {
   "cell_type": "markdown",
   "id": "5aa9d3c1",
   "metadata": {},
   "source": [
    "### Problem Statement 11:\n",
    "The current flow in a copper wire follow a normal distribution with a mean of 10 mA and a variance of 4 (mA)2. What is the probability that a current measurement will exceed 13 mA? What is the probability that a current measurement is between 9 and 11mA? Determine the current measurement which has a probability of 0.98."
   ]
  },
  {
   "cell_type": "code",
   "execution_count": 39,
   "id": "8bf1be12",
   "metadata": {},
   "outputs": [
    {
     "name": "stdout",
     "output_type": "stream",
     "text": [
      "Probability that current > 13mA = 0.067\n",
      "Probability that current is between 9 mA and 11 mA = 1.309\n"
     ]
    }
   ],
   "source": [
    "from scipy.stats import norm\n",
    "from scipy import integrate\n",
    "\n",
    "current_mean = 10\n",
    "current_std = np.sqrt(4)\n",
    "\n",
    "def find_prob(z, b= -np.inf):\n",
    "    z = (z - current_mean) / current_std\n",
    "    return integrate.quad(norm.pdf,b,z)[0]\n",
    "\n",
    "print(f\"Probability that current > 13mA = {round(1-find_prob(13),3)}\")\n",
    "print(f\"Probability that current is between 9 mA and 11 mA = {round(1-find_prob(11,b=9),3)}\")"
   ]
  },
  {
   "cell_type": "markdown",
   "id": "ae6e86cb",
   "metadata": {},
   "source": [
    "### Problem Statement 12:\n",
    "The shaft in a piston has its diameter normally distributed with a mean of 0.2508 inch and a standard deviation of 0.0005 inch. The specifications of the shaft are 0.2500 ∓0.0015 inch. What proportion of shafts are in sync with the specifications? If the process is centered so that the mean is equal to the target value of 0.2500, what proportion of shafts conform to the new specifications? What is your conclusion from this experiment?"
   ]
  },
  {
   "cell_type": "code",
   "execution_count": 55,
   "id": "ceb86374",
   "metadata": {},
   "outputs": [
    {
     "name": "stdout",
     "output_type": "stream",
     "text": [
      "Z-score when mean of the shaft is 0.2508 = (-4.6, 1.4)\n",
      "Z-score when mean of the shaft is 0.25 = (-3.0, 3.0)\n",
      "Proportion of shafts in sync with the specs when mean is 0.2508, From Ztable: P(-4.6<Z<1.4) = 0.92\n",
      "Proportion of shafts in sync with the specs when mean is 0.2500, From Ztable: P(-3<Z<3) = 0.99\n",
      "Conclusion: If the mean changes from 0.2508 to 0.2500, the proportion of shaft increases from 92% to 99.73%\n"
     ]
    }
   ],
   "source": [
    "mean_dia=0.2508\n",
    "std_dia=0.0005\n",
    "#specified dia in the range of 0.2485<d<0.2515\n",
    "#case-1 if mean_dia=0.2508\n",
    "def zscore(mean, std, a, b) :\n",
    "    #gives P(Z<=x)\n",
    "    a= (a - mean) / std\n",
    "    b= (b - mean) / std\n",
    "    return round(a,3),round(b,3)\n",
    "\n",
    "print(\"Z-score when mean of the shaft is {} = {}\".format(0.2508, zscore(0.2508,0.0005,0.2485,0.2515)))\n",
    "print(\"Z-score when mean of the shaft is {} = {}\".format(0.2500, zscore(0.2500,0.0005,0.2485,0.2515)))\n",
    "print(\"Proportion of shafts in sync with the specs when mean is 0.2508, From Ztable: P(-4.6<Z<1.4) = 0.92\")\n",
    "print(\"Proportion of shafts in sync with the specs when mean is 0.2500, From Ztable: P(-3<Z<3) = 0.99\")\n",
    "print(\"Conclusion: If the mean changes from 0.2508 to 0.2500, the proportion of shaft increases from 92% to 99.73%\")"
   ]
  }
 ],
 "metadata": {
  "kernelspec": {
   "display_name": "Python 3 (ipykernel)",
   "language": "python",
   "name": "python3"
  },
  "language_info": {
   "codemirror_mode": {
    "name": "ipython",
    "version": 3
   },
   "file_extension": ".py",
   "mimetype": "text/x-python",
   "name": "python",
   "nbconvert_exporter": "python",
   "pygments_lexer": "ipython3",
   "version": "3.9.12"
  }
 },
 "nbformat": 4,
 "nbformat_minor": 5
}
