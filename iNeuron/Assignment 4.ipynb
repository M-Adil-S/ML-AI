{
 "cells": [
  {
   "cell_type": "markdown",
   "id": "f31f37e3",
   "metadata": {},
   "source": [
    "### Problem Statement 1:\n",
    "Blood glucose levels for obese patients have a mean of 100 with a standard deviation of\n",
    "15. A researcher thinks that a diet high in raw cornstarch will have a positive effect on\n",
    "blood glucose levels. A sample of 36 patients who have tried the raw cornstarch diet\n",
    "have a mean glucose level of 108. Test the hypothesis that the raw cornstarch had an\n",
    "effect or not."
   ]
  },
  {
   "cell_type": "markdown",
   "id": "e7c9a676",
   "metadata": {},
   "source": [
    "Hypothesis:\n",
    " Null Hypothesis H_{0} : mu = 100,\n",
    " Alternate Hypothesis H_{A} : mu > 100\n",
    "\n",
    "Parameters:\n",
    " mu = 100,\n",
    " sigma = 15,\n",
    " bar{x} = 108,\n",
    " n = 36,\n",
    " alpha = 0.05,\n",
    "\n",
    "Equation for test statistic:\n",
    "\\begin{equation}\n",
    "z = \\frac{\\bar{x} − \\mu}{\\frac{\\sigma}{\\sqrt{n}}}\\end{equation}\n",
    "\n",
    "\\begin{equation}\n",
    "z = \\frac{108 − 100}{\\frac{15}{\\sqrt{36}}}\n",
    "= 3.2\\end{equation}\n",
    "\n",
    " For a significance of 0.05 the critical value is 1.645 for a right−tailed test. \n",
    " Since 1.645 < 3.2 we will reject the null hypothesis (H_{0}) in favour of alternate hypothesis (H_{A}). Since the null hypothesis is rejected at a significant level of 5%, we can conclude that raw starch has affected blood glucose levels."
   ]
  },
  {
   "cell_type": "markdown",
   "id": "090f9c71",
   "metadata": {},
   "source": []
  },
  {
   "cell_type": "markdown",
   "id": "7eb67ffe",
   "metadata": {},
   "source": [
    "### Problem Statement 2:\n",
    "In one state, 52% of the voters are Republicans, and 48% are Democrats. In a second state, 47% of the voters are Republicans, and 53% are Democrats. Suppose a simple random sample of 100 voters are surveyed from each state.\n",
    "\n",
    "What is the probability that the survey will show a greater percentage of Republican voters in the second state than in the first state?"
   ]
  },
  {
   "cell_type": "code",
   "execution_count": 5,
   "id": "43117b58",
   "metadata": {},
   "outputs": [
    {
     "name": "stdout",
     "output_type": "stream",
     "text": [
      "mu: 0.05\n",
      "std: 0.071\n",
      "Z_p1_p2 : -0.708\n",
      "\n",
      "Therefore, the probability that the survey will show a greater percentage of Republican voters in the 2nd state than in the 1st state is 0.24\n"
     ]
    }
   ],
   "source": [
    "import math\n",
    "\n",
    "n1 = 100\n",
    "n2 = 100\n",
    "rep1 = 0.52\n",
    "dem1 = 0.48\n",
    "rep2 = 0.47\n",
    "dem2 = 0.53\n",
    "\n",
    "mu = rep1 - rep2\n",
    "print(f\"mu: {round(mu,3)}\")\n",
    "std = math.sqrt(((rep1 * dem1 / n1) + ((rep2 * dem2) / n2)))\n",
    "print(f\"std: {round(std,3)}\")\n",
    "\n",
    "#This problem requires us to find the probability that p1 is less than p2. \n",
    "#This is equivalent to finding the probability that rep1 - rep2 < 0.\n",
    "#To find this probability, we need to transform the random variable (rep1 - rep2) into a z-score.   \n",
    "\n",
    "x= 0\n",
    "Z_rep1_rep2 = ( x - mu)/std\n",
    "print(f\"Z_p1_p2 : {round(Z_rep1_rep2,3)}\")\n",
    "                \n",
    "#From Z table we find that the probability of a z-score being -0.7082 or less is 0.24.\n",
    "\n",
    "print(\"\\nTherefore, the probability that the survey will show a greater percentage of Republican voters in the 2nd state than in the 1st state is 0.24\")"
   ]
  },
  {
   "cell_type": "markdown",
   "id": "1c311ece",
   "metadata": {},
   "source": [
    "### Problem Statement 3:\n",
    "You take the SAT and score 1100. The mean score for the SAT is 1026 and the standard deviation is 209. How well did you score on the test compared to the average test taker?"
   ]
  },
  {
   "cell_type": "code",
   "execution_count": 8,
   "id": "f497dfe1",
   "metadata": {},
   "outputs": [
    {
     "name": "stdout",
     "output_type": "stream",
     "text": [
      "Z Score : 0.35\n",
      "Using z-table: 0.35 corresponds to probability of 0.638\n",
      "Hence, my Score is better than the average test taker by 13.8%\n"
     ]
    }
   ],
   "source": [
    "x = 1100\n",
    "mu = 1026 #Population Mean\n",
    "sd = 209 #Population standard deviation\n",
    "z = ( x - mu)/sd\n",
    "print(\"Z Score : {:.2F}\".format(z))\n",
    "print(\"Using z-table: 0.35 corresponds to probability of 0.638\")\n",
    "print(\"Hence, my Score is better than the average test taker by 13.8%\")"
   ]
  },
  {
   "cell_type": "code",
   "execution_count": null,
   "id": "e6af3a3d",
   "metadata": {},
   "outputs": [],
   "source": []
  }
 ],
 "metadata": {
  "kernelspec": {
   "display_name": "Python 3 (ipykernel)",
   "language": "python",
   "name": "python3"
  },
  "language_info": {
   "codemirror_mode": {
    "name": "ipython",
    "version": 3
   },
   "file_extension": ".py",
   "mimetype": "text/x-python",
   "name": "python",
   "nbconvert_exporter": "python",
   "pygments_lexer": "ipython3",
   "version": "3.9.12"
  }
 },
 "nbformat": 4,
 "nbformat_minor": 5
}
